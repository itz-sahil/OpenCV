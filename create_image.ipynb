{
 "cells": [
  {
   "cell_type": "code",
   "execution_count": 123,
   "id": "39479266",
   "metadata": {},
   "outputs": [],
   "source": [
    "import numpy,cv2"
   ]
  },
  {
   "cell_type": "code",
   "execution_count": 124,
   "id": "2936e8c9",
   "metadata": {},
   "outputs": [],
   "source": [
    "#Function to display image\n",
    "def display(image):\n",
    "    cv2.imshow('image',image)\n",
    "    cv2.waitKey()\n",
    "    cv2.destroyAllWindows()"
   ]
  },
  {
   "cell_type": "code",
   "execution_count": 125,
   "id": "8e6268fb",
   "metadata": {},
   "outputs": [],
   "source": [
    "#Creating image\n",
    "indian_flag=numpy.zeros((350,600,3),numpy.uint8)\n",
    "indian_flag[0:100,:] = (88, 199, 241)\n",
    "indian_flag[: ,0:300] = (88, 199, 241)\n",
    "indian_flag[100:150,100:500]=(44, 165, 255)\n",
    "indian_flag[: ,500:600] = (88, 199, 241)\n",
    "indian_flag[ 150:200,100:500] = (255, 255, 255)\n",
    "indian_flag[200:250,100:500]=(24,128,0)\n",
    "indian_flag[250:350,:] = (88, 199,241)"
   ]
  },
  {
   "cell_type": "code",
   "execution_count": 126,
   "id": "0fe85399",
   "metadata": {},
   "outputs": [],
   "source": [
    "flag = cv2.circle(indian_flag, (300,175), (22), (100,5,0), (4))"
   ]
  },
  {
   "cell_type": "code",
   "execution_count": 127,
   "id": "439eb91a",
   "metadata": {},
   "outputs": [],
   "source": [
    "flag = cv2.line(indian_flag, (275,175), (325,175), (100,50,0), (2))\n",
    "flag = cv2.line(indian_flag, (300,150), (300,200), (100,50,0), (2))\n",
    "flag = cv2.line(indian_flag, (283,158), (319,190), (100,50,0), (2))\n",
    "flag = cv2.line(indian_flag, (319,160), (285,189), (100,50,0), (2))\n"
   ]
  },
  {
   "cell_type": "code",
   "execution_count": 128,
   "id": "a9916e37",
   "metadata": {},
   "outputs": [],
   "source": [
    "display(flag)"
   ]
  },
  {
   "cell_type": "code",
   "execution_count": null,
   "id": "c5383cf4",
   "metadata": {},
   "outputs": [],
   "source": []
  },
  {
   "cell_type": "code",
   "execution_count": null,
   "id": "cefe5e01",
   "metadata": {},
   "outputs": [],
   "source": []
  }
 ],
 "metadata": {
  "kernelspec": {
   "display_name": "Python 3",
   "language": "python",
   "name": "python3"
  },
  "language_info": {
   "codemirror_mode": {
    "name": "ipython",
    "version": 3
   },
   "file_extension": ".py",
   "mimetype": "text/x-python",
   "name": "python",
   "nbconvert_exporter": "python",
   "pygments_lexer": "ipython3",
   "version": "3.8.8"
  }
 },
 "nbformat": 4,
 "nbformat_minor": 5
}

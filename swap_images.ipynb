{
 "cells": [
  {
   "cell_type": "code",
   "execution_count": 88,
   "id": "f1df83b5",
   "metadata": {},
   "outputs": [],
   "source": [
    "import numpy,cv2"
   ]
  },
  {
   "cell_type": "code",
   "execution_count": 89,
   "id": "2c473cab",
   "metadata": {},
   "outputs": [],
   "source": [
    "#Function to display image\n",
    "def display(image):\n",
    "    cv2.imshow('image',image)\n",
    "    cv2.waitKey()\n",
    "    cv2.destroyAllWindows()"
   ]
  },
  {
   "cell_type": "code",
   "execution_count": 90,
   "id": "9bfe7e9b",
   "metadata": {},
   "outputs": [
    {
     "data": {
      "text/plain": [
       "(225, 225, 3)"
      ]
     },
     "execution_count": 90,
     "metadata": {},
     "output_type": "execute_result"
    }
   ],
   "source": [
    "sheep = cv2.imread('sheep.jpg')\n",
    "sheep.shape"
   ]
  },
  {
   "cell_type": "code",
   "execution_count": 91,
   "id": "06e137fb",
   "metadata": {},
   "outputs": [
    {
     "data": {
      "text/plain": [
       "(120, 130, 3)"
      ]
     },
     "execution_count": 91,
     "metadata": {},
     "output_type": "execute_result"
    }
   ],
   "source": [
    "#cropping the sheep image\n",
    "crop_sheep = sheep[10:130,10:140]\n",
    "crop_sheep.shape"
   ]
  },
  {
   "cell_type": "code",
   "execution_count": 92,
   "id": "fe9995cc",
   "metadata": {},
   "outputs": [
    {
     "data": {
      "text/plain": [
       "(225, 225, 3)"
      ]
     },
     "execution_count": 92,
     "metadata": {},
     "output_type": "execute_result"
    }
   ],
   "source": [
    "chef = cv2.imread('chef.jpg')\n",
    "chef.shape"
   ]
  },
  {
   "cell_type": "code",
   "execution_count": 93,
   "id": "b6804d64",
   "metadata": {},
   "outputs": [
    {
     "data": {
      "text/plain": [
       "(120, 130, 3)"
      ]
     },
     "execution_count": 93,
     "metadata": {},
     "output_type": "execute_result"
    }
   ],
   "source": [
    "crop_chef = chef[10:130,50:180]\n",
    "crop_chef.shape"
   ]
  },
  {
   "cell_type": "code",
   "execution_count": 84,
   "id": "84b1a154",
   "metadata": {},
   "outputs": [],
   "source": [
    "sheep[10:130,10:140] = crop_chef "
   ]
  },
  {
   "cell_type": "code",
   "execution_count": 94,
   "id": "c4f08317",
   "metadata": {},
   "outputs": [],
   "source": [
    "chef[10:130,50:180] = crop_sheep"
   ]
  },
  {
   "cell_type": "code",
   "execution_count": 86,
   "id": "d919741a",
   "metadata": {},
   "outputs": [],
   "source": [
    "display(sheep)"
   ]
  },
  {
   "cell_type": "code",
   "execution_count": 95,
   "id": "da06f95c",
   "metadata": {},
   "outputs": [],
   "source": [
    "display(chef)"
   ]
  },
  {
   "cell_type": "code",
   "execution_count": null,
   "id": "5337d42b",
   "metadata": {},
   "outputs": [],
   "source": []
  }
 ],
 "metadata": {
  "kernelspec": {
   "display_name": "Python 3",
   "language": "python",
   "name": "python3"
  },
  "language_info": {
   "codemirror_mode": {
    "name": "ipython",
    "version": 3
   },
   "file_extension": ".py",
   "mimetype": "text/x-python",
   "name": "python",
   "nbconvert_exporter": "python",
   "pygments_lexer": "ipython3",
   "version": "3.8.8"
  }
 },
 "nbformat": 4,
 "nbformat_minor": 5
}

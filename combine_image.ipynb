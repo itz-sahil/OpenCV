{
 "cells": [
  {
   "cell_type": "code",
   "execution_count": 7,
   "id": "b923ff2b",
   "metadata": {},
   "outputs": [],
   "source": [
    "import numpy,cv2"
   ]
  },
  {
   "cell_type": "code",
   "execution_count": 8,
   "id": "53a59487",
   "metadata": {},
   "outputs": [],
   "source": [
    "#Function to display image\n",
    "def display(image):\n",
    "    cv2.imshow('image',image)\n",
    "    cv2.waitKey()\n",
    "    cv2.destroyAllWindows()"
   ]
  },
  {
   "cell_type": "code",
   "execution_count": 9,
   "id": "9744a4a2",
   "metadata": {},
   "outputs": [],
   "source": [
    "sheep = cv2.imread('sheep.jpg')\n",
    "chef = cv2.imread('chef.jpg')"
   ]
  },
  {
   "cell_type": "code",
   "execution_count": 10,
   "id": "766cb582",
   "metadata": {},
   "outputs": [],
   "source": [
    "combined_image = cv2.hconcat([sheep,chef])"
   ]
  },
  {
   "cell_type": "code",
   "execution_count": 11,
   "id": "93b39237",
   "metadata": {},
   "outputs": [],
   "source": [
    "display(combined_image)"
   ]
  },
  {
   "cell_type": "code",
   "execution_count": null,
   "id": "364dca47",
   "metadata": {},
   "outputs": [],
   "source": []
  }
 ],
 "metadata": {
  "kernelspec": {
   "display_name": "Python 3",
   "language": "python",
   "name": "python3"
  },
  "language_info": {
   "codemirror_mode": {
    "name": "ipython",
    "version": 3
   },
   "file_extension": ".py",
   "mimetype": "text/x-python",
   "name": "python",
   "nbconvert_exporter": "python",
   "pygments_lexer": "ipython3",
   "version": "3.8.8"
  }
 },
 "nbformat": 4,
 "nbformat_minor": 5
}
